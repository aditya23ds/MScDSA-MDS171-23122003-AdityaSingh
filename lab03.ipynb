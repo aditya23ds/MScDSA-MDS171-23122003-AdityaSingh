{
 "cells": [
  {
   "cell_type": "code",
   "execution_count": 7,
   "metadata": {},
   "outputs": [],
   "source": [
    "numlist=[761, 123, 585, 275, 194, 840, 999, 622, 763, 40, 825, 687, 402, 338, 611, 987, 739, 95, 819, 568, 320, 126, 688, 948, 514, 223, 751, 379, 857, 767, 492, 162, 437, 934, 430, 343, 725, 511, 580, 678, 708, 823, 346, 179, 786, 663, 195, 890, 267, 502, 214, 300, 786, 961, 235, 559, 992, 919, 948, 318, 57, 787, 653, 317, 305, 172, 966, 182, 970, 17, 89, 624, 629, 595, 485, 752, 984, 978, 460, 124, 321, 256, 614, 852, 811, 561, 127, 207, 406, 615, 888, 391, 691, 470, 911, 401, 137, 600, 478, 682]\n",
    "\n",
    "def means(numlist):\n",
    "    total=0\n",
    "    sum=0\n",
    "    for i in numlist:\n",
    "        total=total+1\n",
    "        sum=sum+i\n",
    "        mean=sum/total\n",
    "    print(\"\",mean)\n",
    "    print(\"\",max(numlist))"
   ]
  },
  {
   "cell_type": "code",
   "execution_count": 22,
   "metadata": {},
   "outputs": [
    {
     "name": "stdout",
     "output_type": "stream",
     "text": [
      "17\n"
     ]
    }
   ],
   "source": [
    "def minimum_value(numlist):\n",
    "     mini=numlist[0]\n",
    "     for i in numlist:\n",
    "        if mini>i:\n",
    "            mini=i\n",
    "     return mini\n",
    "mini=minimum_value(numlist)"
   ]
  },
  {
   "cell_type": "code",
   "execution_count": 21,
   "metadata": {},
   "outputs": [
    {
     "name": "stdout",
     "output_type": "stream",
     "text": [
      "999\n"
     ]
    }
   ],
   "source": [
    "def maximum_value(numlist):\n",
    "     maxi=numlist[0]\n",
    "     for i in numlist:\n",
    "        if maxi<i:\n",
    "            maxi=i\n",
    "     return maxi\n",
    "maxi=maximum_value(numlist)"
   ]
  },
  {
   "cell_type": "code",
   "execution_count": 23,
   "metadata": {},
   "outputs": [],
   "source": [
    "def fun(mini,maxi):\n",
    "    rang=max-min\n",
    "    print(rang)"
   ]
  },
  {
   "cell_type": "code",
   "execution_count": 24,
   "metadata": {},
   "outputs": [
    {
     "name": "stdout",
     "output_type": "stream",
     "text": [
      " 542.94\n",
      " 999\n",
      "17\n",
      "999\n",
      "982\n"
     ]
    }
   ],
   "source": [
    "means(numlist)\n",
    "print(minimum_value(numlist))\n",
    "print(maximum_value(numlist))\n",
    "range(mini,maxi)"
   ]
  },
  {
   "cell_type": "code",
   "execution_count": null,
   "metadata": {},
   "outputs": [],
   "source": []
  }
 ],
 "metadata": {
  "kernelspec": {
   "display_name": "Python 3",
   "language": "python",
   "name": "python3"
  },
  "language_info": {
   "codemirror_mode": {
    "name": "ipython",
    "version": 3
   },
   "file_extension": ".py",
   "mimetype": "text/x-python",
   "name": "python",
   "nbconvert_exporter": "python",
   "pygments_lexer": "ipython3",
   "version": "3.11.4"
  },
  "orig_nbformat": 4
 },
 "nbformat": 4,
 "nbformat_minor": 2
}
