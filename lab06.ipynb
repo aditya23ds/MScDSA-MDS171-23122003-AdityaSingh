{
 "cells": [
  {
   "cell_type": "code",
   "execution_count": 10,
   "metadata": {},
   "outputs": [],
   "source": [
    "#TOTAL COUNTS OF THE VOWELS \n",
    "def vowels():                                       #DEFINE THE FUNCTION\n",
    "    user_string=input(\"enter the string\")           #ENTERING THE STRING  \n",
    "    print(\"THE USER ENTER STRING :\", user_string)    #PRINTING THE STRING \n",
    "    total_counter=0 \n",
    "    user_string=user_string.upper()     #MAKING THE STRING IN UPPER CASE \n",
    "    user_string=user_string.strip()     #REMOVING THE WIDE SPACE FROM THE STRING\n",
    "    length_string=len(user_string)      #TOTAL LENGTH OF THE STRING\n",
    "    print(\"THE TOTAL LENGTH OF THE STRING IS :\",length_string)       #PRINTING THE TOTAL LENGTH OF THE STRING\n",
    "    for letter in user_string: \n",
    "        if (letter =='A' or letter=='E'or letter=='I' or letter=='O'or letter=='U'): #IF FUNCTION TO CHECK THE VOWELS\n",
    "            total_counter += 1                                                   #COUNTER TO COUNT THE NO OF VOWELS\n",
    "    print(\"THE TOTAL VOWELS IN THE STRINGS ARE\",total_counter)                  #PRINTING THE NO OF VOWELS\n",
    "    #ASSIGNING THE VARIABLE TO COUNT THE EACH VARIABLE\n",
    "    a1=0 \n",
    "    e1=0\n",
    "    i1=0\n",
    "    o1=0\n",
    "    u1=0\n",
    "    #CHECKING THE OCCURENCE OF EACH VOWELS AND THEN PRINTING THE COUNT OF THE VOWELS\n",
    "    for letter in user_string:\n",
    "        if (letter=='A'):\n",
    "            a1+=1\n",
    "        elif (letter=='E'):\n",
    "            e1+=1\n",
    "        elif (letter=='I'):\n",
    "            i1+=1\n",
    "        elif (letter=='O'):\n",
    "            o1+=1\n",
    "        elif (letter=='U'):\n",
    "            u1+=1 \n",
    "    print(\"A=\",a1)\n",
    "    print(\"E=\",e1)\n",
    "    print(\"I=\",i1)\n",
    "    print(\"O=\",o1)\n",
    "    print(\"U=\",u1)\n",
    "    #calculation for the percentage of vowels in the string\n",
    "    perc=0\n",
    "    float(perc)     #USING FLOAT DATA TYPE AS PERCENTAGE IS IN DECIMAL\n",
    "    perc=(total_counter*100)/length_string      #FORMULA TO CALCULATE THE PERCENTAGE\n",
    "    print(\"THE PERCENTAGE OF THE VOWELS IN THE STRING ARE\",perc)      #PRINTING THE PERCENTAGE\n",
    "    #PROGRAM END!!!!!!!!!!!!!"
   ]
  },
  {
   "cell_type": "code",
   "execution_count": 11,
   "metadata": {},
   "outputs": [
    {
     "name": "stdout",
     "output_type": "stream",
     "text": [
      "THE USER ENTER STRING : Aditya Kumar Singh\n",
      "THE TOTAL LENGTH OF THE STRING IS : 18\n",
      "THE TOTAL VOWELS IN THE STRINGS ARE 6\n",
      "A= 3\n",
      "E= 0\n",
      "I= 2\n",
      "O= 0\n",
      "U= 1\n",
      "THE PERCENTAGE OF THE VOWELS IN THE STRING ARE 33.333333333333336\n"
     ]
    }
   ],
   "source": [
    "vowels()"
   ]
  },
  {
   "cell_type": "code",
   "execution_count": null,
   "metadata": {},
   "outputs": [],
   "source": []
  }
 ],
 "metadata": {
  "kernelspec": {
   "display_name": "Python 3",
   "language": "python",
   "name": "python3"
  },
  "language_info": {
   "codemirror_mode": {
    "name": "ipython",
    "version": 3
   },
   "file_extension": ".py",
   "mimetype": "text/x-python",
   "name": "python",
   "nbconvert_exporter": "python",
   "pygments_lexer": "ipython3",
   "version": "3.11.4"
  },
  "orig_nbformat": 4
 },
 "nbformat": 4,
 "nbformat_minor": 2
}
