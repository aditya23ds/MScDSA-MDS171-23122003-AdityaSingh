{
 "cells": [
  {
   "cell_type": "code",
   "execution_count": 7,
   "metadata": {},
   "outputs": [
    {
     "name": "stdout",
     "output_type": "stream",
     "text": [
      "Sales Information for ball:\n",
      "Total Quantity: 89 | Total Cost: 8900.00\n",
      "Min Price: 100 | Max Price: 100\n"
     ]
    }
   ],
   "source": [
    "import random\n",
    "\n",
    "# Define lists of item names and their prices\n",
    "items = [\"bat\", \"ball\", \"shoes\", \"watch\", \"shorts\", \"socks\", \"tshirt\", \"Bottle\", \"Cycle\", \"earphones\"]\n",
    "quantities = [3, 4, 5, 6, 7, 8, 9, 4, 12, 14]  # Convert quantities to integers\n",
    "prices = [500, 100, 1500, 2400, 600, 200, 400, 350, 10000, 1460]  # Convert prices to integers\n",
    "\n",
    "# Initialize lists to store item quantities and total costs\n",
    "item_quantities = [0] * len(items)\n",
    "item_costs = [0] * len(items)\n",
    "\n",
    "# Generate random data and calculate total cost for each row\n",
    "for _ in range(100):\n",
    "    index = random.randint(0, len(items) - 1)\n",
    "    item_name = items[index]\n",
    "    quantity = random.randint(1, 10)\n",
    "    unit_price = prices[index]\n",
    "    total_cost = quantity * unit_price\n",
    "\n",
    "    # Update the item quantities and total costs\n",
    "    item_quantities[index] += quantity\n",
    "    item_costs[index] += total_cost\n",
    "\n",
    "# Get the item to check from the user\n",
    "item_to_check = input(\"Enter the name of the item you want to check: \")\n",
    "\n",
    "# Find the index of the item in the items list\n",
    "if item_to_check in items:\n",
    "    item_index = items.index(item_to_check)\n",
    "\n",
    "    # Print the total sales information for the specified item\n",
    "    print(f\"Sales Information for {item_to_check}:\")\n",
    "    print(f\"Total Quantity: {item_quantities[item_index]} | Total Cost: {item_costs[item_index]:.2f}\")\n",
    "\n",
    "    # Calculate and print the minimum and maximum prices for the specified item\n",
    "    item_price = prices[item_index]\n",
    "\n",
    "    if item_quantities[item_index] > 0:\n",
    "        print(f\"Min Price: {item_price} | Max Price: {item_price}\")\n",
    "    else:\n",
    "        print(f\"No sales recorded for {item_to_check}\")\n",
    "else:\n",
    "    print(f\"The item '{item_to_check}' was not found in the list of items.\")\n"
   ]
  },
  {
   "cell_type": "code",
   "execution_count": null,
   "metadata": {},
   "outputs": [],
   "source": []
  }
 ],
 "metadata": {
  "kernelspec": {
   "display_name": "Python 3",
   "language": "python",
   "name": "python3"
  },
  "language_info": {
   "codemirror_mode": {
    "name": "ipython",
    "version": 3
   },
   "file_extension": ".py",
   "mimetype": "text/x-python",
   "name": "python",
   "nbconvert_exporter": "python",
   "pygments_lexer": "ipython3",
   "version": "3.11.4"
  },
  "orig_nbformat": 4
 },
 "nbformat": 4,
 "nbformat_minor": 2
}
