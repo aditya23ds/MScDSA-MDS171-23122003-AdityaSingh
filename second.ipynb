{
 "cells": [
  {
   "cell_type": "code",
   "execution_count": null,
   "metadata": {},
   "outputs": [],
   "source": [
    "# for\n",
    "# while"
   ]
  },
  {
   "cell_type": "code",
   "execution_count": 3,
   "metadata": {},
   "outputs": [
    {
     "name": "stdout",
     "output_type": "stream",
     "text": [
      "T\n",
      "h\n",
      "i\n",
      "s\n",
      " \n",
      "i\n",
      "s\n",
      " \n",
      "a\n",
      " \n",
      "s\n",
      "t\n",
      "r\n",
      "i\n",
      "n\n",
      "g\n"
     ]
    }
   ],
   "source": [
    "for x in \"This is a string\":\n",
    "    print(x) "
   ]
  },
  {
   "cell_type": "code",
   "execution_count": 2,
   "metadata": {},
   "outputs": [
    {
     "name": "stdout",
     "output_type": "stream",
     "text": [
      "This is a string \n",
      "This will go in new line \n",
      "43\n",
      "42\n"
     ]
    }
   ],
   "source": [
    "msg= \"This is a string \\nThis will go in new line \"\n",
    "print(msg)\n",
    "print(len(msg))\n",
    "msg = msg.strip()\n",
    "print(len(msg))\n"
   ]
  },
  {
   "cell_type": "code",
   "execution_count": 8,
   "metadata": {},
   "outputs": [
    {
     "name": "stdout",
     "output_type": "stream",
     "text": [
      "0\n",
      "2\n",
      "4\n",
      "6\n",
      "8\n"
     ]
    }
   ],
   "source": [
    "for i in range(0,10,2):\n",
    "    print (i) "
   ]
  },
  {
   "cell_type": "markdown",
   "metadata": {},
   "source": []
  },
  {
   "cell_type": "code",
   "execution_count": 17,
   "metadata": {},
   "outputs": [
    {
     "name": "stdout",
     "output_type": "stream",
     "text": [
      "['Item 1', 'Item 2', 'Item 3', 10, 22.45, 44]\n",
      "Item 1\n",
      "Item 2\n",
      "Item 3\n",
      "10\n",
      "22.45\n",
      "44\n"
     ]
    }
   ],
   "source": [
    "listex = [\"Item 1\",\"Item 2\",\"Item 3\",10,22.45, 44]\n",
    "print (listex)\n",
    "for i in listex:\n",
    "    print(i)\n"
   ]
  },
  {
   "cell_type": "code",
   "execution_count": 3,
   "metadata": {},
   "outputs": [
    {
     "name": "stdout",
     "output_type": "stream",
     "text": [
      "haiiii.....\n"
     ]
    }
   ],
   "source": [
    "a= \"\\t  haiiii.....  \\n\"\n",
    "a= a.strip()\n",
    "print(a)\n"
   ]
  },
  {
   "cell_type": "code",
   "execution_count": 10,
   "metadata": {},
   "outputs": [
    {
     "name": "stdout",
     "output_type": "stream",
     "text": [
      "['boht', 'hi', 'neend', 'aari', 'hai']\n",
      "None\n"
     ]
    }
   ],
   "source": [
    "a= 'boht hi neend aari hai'\n",
    "a= print(a.split(' '))\n",
    "print(a)\n"
   ]
  },
  {
   "cell_type": "code",
   "execution_count": 15,
   "metadata": {},
   "outputs": [
    {
     "name": "stdout",
     "output_type": "stream",
     "text": [
      "BRUHHHH\n",
      "aditya\n",
      "AdItYa\n"
     ]
    }
   ],
   "source": [
    "print(\"bruhhhh\".upper())\n",
    "print(\"ADITYA\".lower())\n",
    "print(\"aDiTyA\".swapcase())\n"
   ]
  },
  {
   "cell_type": "code",
   "execution_count": 25,
   "metadata": {},
   "outputs": [
    {
     "name": "stdout",
     "output_type": "stream",
     "text": [
      "hello\n",
      "jikyahaalchaal...msg\n"
     ]
    }
   ],
   "source": [
    "msg= \"hellojikyahaalchaal...msg\"\n",
    "print(msg[:5])\n",
    "print(msg[5:])\n",
    "\n"
   ]
  },
  {
   "cell_type": "code",
   "execution_count": 34,
   "metadata": {},
   "outputs": [
    {
     "name": "stdout",
     "output_type": "stream",
     "text": [
      "name is adityaaaaaaaaaaaaaaaaaaaa and from bokaro\n"
     ]
    }
   ],
   "source": [
    "nclass = input (\"Where do you belong to: \")\n",
    "name = input(\"enter your name: \")\n",
    "\n",
    "print(\"name is {} and from {}\".format(name, nclass))"
   ]
  },
  {
   "cell_type": "code",
   "execution_count": 1,
   "metadata": {},
   "outputs": [],
   "source": [
    "listex = [\"one\",\"two\",\"three\",\"four\"]\n"
   ]
  },
  {
   "cell_type": "code",
   "execution_count": 4,
   "metadata": {},
   "outputs": [
    {
     "name": "stdout",
     "output_type": "stream",
     "text": [
      "two is found\n"
     ]
    }
   ],
   "source": [
    "if \"two\" in listex:\n",
    "    print(\"two is found\")"
   ]
  },
  {
   "cell_type": "code",
   "execution_count": 5,
   "metadata": {},
   "outputs": [
    {
     "name": "stdout",
     "output_type": "stream",
     "text": [
      "['one', 'TWO', 'three', 'four']\n"
     ]
    }
   ],
   "source": [
    "listex[1] = \"TWO\"\n",
    "print(listex)"
   ]
  },
  {
   "cell_type": "code",
   "execution_count": 6,
   "metadata": {},
   "outputs": [
    {
     "name": "stdout",
     "output_type": "stream",
     "text": [
      "['one', 'TWO', 'three', 'four']\n"
     ]
    }
   ],
   "source": [
    "print(listex)"
   ]
  },
  {
   "cell_type": "code",
   "execution_count": 9,
   "metadata": {},
   "outputs": [
    {
     "name": "stdout",
     "output_type": "stream",
     "text": [
      "['five', 'six', 'seven', 'one', 'TWO', 'three', 'four']\n",
      "['one', 'TWO', 'three', 'four', 'five', 'six', 'seven']\n"
     ]
    }
   ],
   "source": [
    "newList = [\"five\",\"six\",\"seven\"]\n",
    "print(newList + listex)\n",
    "print(listex + newList)"
   ]
  },
  {
   "cell_type": "code",
   "execution_count": 10,
   "metadata": {},
   "outputs": [
    {
     "name": "stdout",
     "output_type": "stream",
     "text": [
      "['five', 'six', 'seven', 'eight']\n"
     ]
    }
   ],
   "source": [
    "newList.append(\"eight\")\n",
    "print(newList)"
   ]
  },
  {
   "cell_type": "code",
   "execution_count": 26,
   "metadata": {},
   "outputs": [
    {
     "name": "stdout",
     "output_type": "stream",
     "text": [
      "['four']\n"
     ]
    }
   ],
   "source": [
    "print(listex)"
   ]
  },
  {
   "cell_type": "code",
   "execution_count": 21,
   "metadata": {},
   "outputs": [
    {
     "name": "stdout",
     "output_type": "stream",
     "text": [
      "['three', 'four']\n"
     ]
    }
   ],
   "source": [
    "listex.pop(0)\n",
    "print(listex)\n"
   ]
  },
  {
   "cell_type": "code",
   "execution_count": 25,
   "metadata": {},
   "outputs": [
    {
     "name": "stdout",
     "output_type": "stream",
     "text": [
      "['four']\n"
     ]
    }
   ],
   "source": [
    "listex.remove(\"three\")\n",
    "print(listex)"
   ]
  },
  {
   "cell_type": "code",
   "execution_count": 27,
   "metadata": {},
   "outputs": [
    {
     "name": "stdout",
     "output_type": "stream",
     "text": [
      "['four']\n"
     ]
    }
   ],
   "source": [
    "print(listex)"
   ]
  },
  {
   "cell_type": "code",
   "execution_count": 28,
   "metadata": {},
   "outputs": [
    {
     "name": "stdout",
     "output_type": "stream",
     "text": [
      "['five', 'six', 'seven', 'eight']\n"
     ]
    }
   ],
   "source": [
    "print(newList)"
   ]
  },
  {
   "cell_type": "code",
   "execution_count": 29,
   "metadata": {},
   "outputs": [
    {
     "name": "stdout",
     "output_type": "stream",
     "text": [
      "['four']\n",
      "['four']\n"
     ]
    }
   ],
   "source": [
    "listex.sort()\n",
    "print(listex)\n",
    "listex.reverse()\n",
    "print(listex)"
   ]
  },
  {
   "cell_type": "markdown",
   "metadata": {},
   "source": [
    "Functions  "
   ]
  },
  {
   "cell_type": "code",
   "execution_count": 42,
   "metadata": {},
   "outputs": [],
   "source": [
    "#def functionName():\n",
    "\n",
    "def functionName(n):\n",
    "   print(\"Hi i am your first function\",n)\n",
    "   return  [\"success\", True]"
   ]
  },
  {
   "cell_type": "code",
   "execution_count": 43,
   "metadata": {},
   "outputs": [
    {
     "name": "stdout",
     "output_type": "stream",
     "text": [
      "Hi i am your first function aditya\n",
      "['success', True]\n"
     ]
    }
   ],
   "source": [
    "name = \"aditya\"\n",
    "ret = functionName(name)\n",
    "print(ret)"
   ]
  },
  {
   "cell_type": "code",
   "execution_count": null,
   "metadata": {},
   "outputs": [],
   "source": []
  }
 ],
 "metadata": {
  "kernelspec": {
   "display_name": "Python 3",
   "language": "python",
   "name": "python3"
  },
  "language_info": {
   "codemirror_mode": {
    "name": "ipython",
    "version": 3
   },
   "file_extension": ".py",
   "mimetype": "text/x-python",
   "name": "python",
   "nbconvert_exporter": "python",
   "pygments_lexer": "ipython3",
   "version": "3.11.4"
  },
  "orig_nbformat": 4
 },
 "nbformat": 4,
 "nbformat_minor": 2
}
