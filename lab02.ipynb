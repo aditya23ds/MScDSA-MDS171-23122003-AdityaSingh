{
 "cells": [
  {
   "cell_type": "code",
   "execution_count": 8,
   "metadata": {},
   "outputs": [
    {
     "ename": "SyntaxError",
     "evalue": "'(' was never closed (2911636650.py, line 22)",
     "output_type": "error",
     "traceback": [
      "\u001b[1;36m  Cell \u001b[1;32mIn[8], line 22\u001b[1;36m\u001b[0m\n\u001b[1;33m    print(\"The Analysis for Largest is {} and the  is {}\".format(smallest,largest)\u001b[0m\n\u001b[1;37m         ^\u001b[0m\n\u001b[1;31mSyntaxError\u001b[0m\u001b[1;31m:\u001b[0m '(' was never closed\n"
     ]
    }
   ],
   "source": [
    "def primary():\n",
    "    userinput = input(\"Enter the Name\")\n",
    "    if userinput ==\"q\" :\n",
    "            print(\"Not accepted\")\n",
    "            return Mylist\n",
    "    \n",
    "        \n",
    "    if userinput in Mylist:     \n",
    "        print(\"The Name Already Exists\")\n",
    "        \n",
    "    else:\n",
    "    \n",
    "        tf=userinput.isalpha()\n",
    "        if tf==True:\n",
    "            Mylist.append(userinput)\n",
    "        else:\n",
    "            print(\"Enter Correct \")\n",
    "\n",
    "    for i in Mylist:\n",
    "         smallest = min(Mylist)\n",
    "         largest = max(Mylist)\n",
    "    print(\"The Analysis for Largest is {} and the  is {}\".format(smallest,largest)\n",
    "          \n",
    "          Largest = max(Mylist, key=len)\n",
    "Smallest = min(Mylist, key=len)\n",
    "\n",
    "print(\" The Analysis for Smallest is {} and Largest the  is {} \".format(Smallest,Largest)))\n",
    "print(Mylist)"
   ]
  },
  {
   "cell_type": "code",
   "execution_count": null,
   "metadata": {},
   "outputs": [],
   "source": []
  },
  {
   "cell_type": "code",
   "execution_count": null,
   "metadata": {},
   "outputs": [],
   "source": []
  }
 ],
 "metadata": {
  "kernelspec": {
   "display_name": "Python 3",
   "language": "python",
   "name": "python3"
  },
  "language_info": {
   "codemirror_mode": {
    "name": "ipython",
    "version": 3
   },
   "file_extension": ".py",
   "mimetype": "text/x-python",
   "name": "python",
   "nbconvert_exporter": "python",
   "pygments_lexer": "ipython3",
   "version": "3.11.4"
  },
  "orig_nbformat": 4
 },
 "nbformat": 4,
 "nbformat_minor": 2
}
